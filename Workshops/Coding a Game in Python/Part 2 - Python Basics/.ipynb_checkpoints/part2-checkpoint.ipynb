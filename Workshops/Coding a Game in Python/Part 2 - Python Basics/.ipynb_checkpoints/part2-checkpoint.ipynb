{
 "cells": [
  {
   "cell_type": "markdown",
   "id": "4797393b-5c41-4031-83d1-452e7e67b1a9",
   "metadata": {
    "slideshow": {
     "slide_type": "slide"
    }
   },
   "source": [
    "# Coding a Game in Python!\n",
    "\n",
    "## Girls Who Code @ UCSD 3-part workshop\n",
    "<br/>\n",
    "<br/>\n",
    "\n",
    "<img src=\"images/tetris.png\" alt=\"tetris\" width=\"400\"/>\n"
   ]
  },
  {
   "cell_type": "markdown",
   "id": "98c0720d-4c5a-42ca-a60e-117dde49a95e",
   "metadata": {
    "slideshow": {
     "slide_type": "slide"
    }
   },
   "source": [
    "#### Part 1 - Setting Up the Environment\n",
    "Last time\n",
    "<br/>\n",
    "<br/>\n",
    "<br/>\n",
    "<br/>\n"
   ]
  },
  {
   "cell_type": "markdown",
   "id": "d458ab73",
   "metadata": {
    "slideshow": {
     "slide_type": "fragment"
    }
   },
   "source": [
    "## Part 2 - Python Basics\n",
    "Today!\n",
    "\n",
    "<br/>\n",
    "<br/>\n",
    "<br/>\n"
   ]
  },
  {
   "cell_type": "markdown",
   "id": "c6369d25",
   "metadata": {
    "slideshow": {
     "slide_type": "fragment"
    }
   },
   "source": [
    "### Part 3 - Coding Tetris\n",
    "Monday November 1 (Tomorrow)! "
   ]
  },
  {
   "cell_type": "markdown",
   "id": "8a05cd13-4617-455b-ba8e-95f5c458541c",
   "metadata": {
    "slideshow": {
     "slide_type": "subslide"
    }
   },
   "source": [
    "### Last time:"
   ]
  },
  {
   "cell_type": "markdown",
   "id": "16caed47-ccf8-4c2c-be5c-a8da422bee02",
   "metadata": {
    "slideshow": {
     "slide_type": "fragment"
    }
   },
   "source": [
    " - We installed an IDE such as VSCode"
   ]
  },
  {
   "cell_type": "markdown",
   "id": "c650b4ac",
   "metadata": {
    "slideshow": {
     "slide_type": "fragment"
    }
   },
   "source": [
    " - We installed Python on our computers, as well as other relevant packages (such as Pandas, NumPy, and more)"
   ]
  },
  {
   "cell_type": "markdown",
   "id": "a239edd4",
   "metadata": {
    "slideshow": {
     "slide_type": "fragment"
    }
   },
   "source": [
    " - Got more familiar with using the terminal"
   ]
  },
  {
   "cell_type": "markdown",
   "id": "97175559",
   "metadata": {
    "slideshow": {
     "slide_type": "fragment"
    }
   },
   "source": [
    "- Explored some python code in real time! (Simple arithmetic, Printing)"
   ]
  },
  {
   "cell_type": "markdown",
   "id": "3dffd61c",
   "metadata": {
    "slideshow": {
     "slide_type": "subslide"
    }
   },
   "source": [
    "<img src=\"images/overview.png\" alt=\"overview\" width=\"900\"/>"
   ]
  },
  {
   "cell_type": "markdown",
   "id": "8fec47ff",
   "metadata": {
    "slideshow": {
     "slide_type": "subslide"
    }
   },
   "source": [
    "<img src=\"images/virtualmachine.png\" alt=\"virtualmachine\" width=\"900\"/>"
   ]
  },
  {
   "cell_type": "markdown",
   "id": "355eb1d4",
   "metadata": {
    "slideshow": {
     "slide_type": "slide"
    }
   },
   "source": [
    "### Today's goals:"
   ]
  },
  {
   "cell_type": "markdown",
   "id": "f9fb64d8",
   "metadata": {
    "slideshow": {
     "slide_type": "fragment"
    }
   },
   "source": [
    " - Learn the basics of Python from scratch!"
   ]
  },
  {
   "cell_type": "markdown",
   "id": "c3d5325b",
   "metadata": {
    "slideshow": {
     "slide_type": "fragment"
    }
   },
   "source": [
    "- Familiarize ourselves with Python conventions"
   ]
  },
  {
   "cell_type": "markdown",
   "id": "72b78b1a",
   "metadata": {
    "slideshow": {
     "slide_type": "fragment"
    }
   },
   "source": [
    " - Understand object oriented programming (Python class structure)"
   ]
  },
  {
   "cell_type": "markdown",
   "id": "65023582",
   "metadata": {
    "slideshow": {
     "slide_type": "fragment"
    }
   },
   "source": [
    " - Learn about data structures and their purpose"
   ]
  },
  {
   "cell_type": "markdown",
   "id": "dee54f49",
   "metadata": {
    "slideshow": {
     "slide_type": "slide"
    }
   },
   "source": [
    "# 1. Python + Object Oriented Programming"
   ]
  },
  {
   "cell_type": "markdown",
   "id": "3e1de89f",
   "metadata": {
    "slideshow": {
     "slide_type": "subslide"
    }
   },
   "source": [
    "<img src=\"images/python.png\" alt=\"python\" width=\"900\"/>"
   ]
  },
  {
   "cell_type": "markdown",
   "id": "f434b039",
   "metadata": {
    "slideshow": {
     "slide_type": "subslide"
    }
   },
   "source": [
    "<img src=\"images/oop.png\" alt=\"oop\" width=\"900\"/>"
   ]
  },
  {
   "cell_type": "markdown",
   "id": "77a327af",
   "metadata": {
    "slideshow": {
     "slide_type": "slide"
    }
   },
   "source": [
    "# 2. Using Python for Tetris\n",
    "\n",
    "<br/>\n",
    "<br/>\n",
    "\n",
    "A | B\n",
    "- | - \n",
    "<img src=\"images/tetris2.jpeg\" alt=\"tetris2\" width=\"600\"/> | <img src=\"images/tetrisgif.gif\" alt=\"tetrisgif\" width=\"200\"/>"
   ]
  },
  {
   "cell_type": "markdown",
   "id": "9aa71216",
   "metadata": {
    "slideshow": {
     "slide_type": "subslide"
    }
   },
   "source": [
    "### What our game needs to accomplish:\n",
    "<br/>\n",
    "<br/>"
   ]
  },
  {
   "cell_type": "markdown",
   "id": "2a64285d",
   "metadata": {
    "slideshow": {
     "slide_type": "fragment"
    }
   },
   "source": [
    "- A tetris interface\n",
    "  - Blocks of different shape, size, color\n",
    "  - Pieces in motion\n",
    "  \n",
    " <br/>"
   ]
  },
  {
   "cell_type": "markdown",
   "id": "52386c61",
   "metadata": {
    "slideshow": {
     "slide_type": "fragment"
    }
   },
   "source": [
    "- Scorekeeping, levels, line tallying\n",
    "\n",
    "<br/>"
   ]
  },
  {
   "cell_type": "markdown",
   "id": "3463cf96",
   "metadata": {
    "slideshow": {
     "slide_type": "fragment"
    }
   },
   "source": [
    "- Challenging and unpredictable pieces\n",
    "  - Randomness\n",
    "<br/>"
   ]
  },
  {
   "cell_type": "markdown",
   "id": "7dc31b87",
   "metadata": {
    "slideshow": {
     "slide_type": "subslide"
    }
   },
   "source": [
    "### What are Python libraries/packages?\n",
    "<br/>\n",
    "<br/>"
   ]
  },
  {
   "cell_type": "markdown",
   "id": "5ad6d780",
   "metadata": {
    "slideshow": {
     "slide_type": "fragment"
    }
   },
   "source": [
    "- Python Libraries are a set of useful functions that eliminate the need for writing codes from scratch, streamlining the most commonly used processes"
   ]
  },
  {
   "cell_type": "markdown",
   "id": "54ed4643",
   "metadata": {
    "slideshow": {
     "slide_type": "fragment"
    }
   },
   "source": [
    "- There are numerous open-source libraries available in Python, each with specific purposes\n",
    "- Often used together and are compatible"
   ]
  },
  {
   "cell_type": "markdown",
   "id": "fbc81f9c",
   "metadata": {
    "slideshow": {
     "slide_type": "fragment"
    }
   },
   "source": [
    "- Accessed using an 'import' statement"
   ]
  },
  {
   "cell_type": "markdown",
   "id": "23d3fab4",
   "metadata": {
    "slideshow": {
     "slide_type": "slide"
    }
   },
   "source": [
    "## Pygame\n",
    "\n",
    "<img src=\"images/pygame.png\" alt=\"pygame\" width=\"500\"/>"
   ]
  },
  {
   "cell_type": "markdown",
   "id": "98b368ba",
   "metadata": {
    "slideshow": {
     "slide_type": "fragment"
    }
   },
   "source": [
    "### Will help us accomplish:\n",
    "\n",
    "\n",
    "- A tetris interface\n",
    "  - Blocks of different shape, size, color\n",
    "  - Pieces in motion"
   ]
  },
  {
   "cell_type": "markdown",
   "id": "7eb0f514",
   "metadata": {
    "slideshow": {
     "slide_type": "slide"
    }
   },
   "source": [
    "## NumPy\n",
    "\n",
    "<img src=\"images/numpy.png\" alt=\"numpy\" width=\"500\"/>"
   ]
  },
  {
   "cell_type": "markdown",
   "id": "79e63ae7",
   "metadata": {
    "slideshow": {
     "slide_type": "fragment"
    }
   },
   "source": [
    "### Will help us accomplish:\n",
    "\n",
    "- Scorekeeping, levels, line tallying"
   ]
  },
  {
   "cell_type": "markdown",
   "id": "f0bbcc4f",
   "metadata": {
    "slideshow": {
     "slide_type": "slide"
    }
   },
   "source": [
    "## Random module\n",
    "\n",
    "<img src=\"images/random.jpg\" alt=\"random\" width=\"500\"/>"
   ]
  },
  {
   "cell_type": "markdown",
   "id": "c1942998",
   "metadata": {
    "slideshow": {
     "slide_type": "fragment"
    }
   },
   "source": [
    "### Will help us accomplish:\n",
    "\n",
    "- Challenging and unpredictable pieces\n",
    "  - Randomness"
   ]
  },
  {
   "cell_type": "markdown",
   "id": "7a53e9ca",
   "metadata": {
    "slideshow": {
     "slide_type": "slide"
    }
   },
   "source": [
    "## How to access Python modules"
   ]
  },
  {
   "cell_type": "markdown",
   "id": "fab56d5f",
   "metadata": {
    "slideshow": {
     "slide_type": "fragment"
    }
   },
   "source": [
    "Import statments!\n",
    "\n",
    "<br/>\n",
    "<br/>\n",
    "<br/>"
   ]
  },
  {
   "cell_type": "code",
   "execution_count": 1,
   "id": "d7d835e9",
   "metadata": {
    "slideshow": {
     "slide_type": "fragment"
    }
   },
   "outputs": [
    {
     "name": "stdout",
     "output_type": "stream",
     "text": [
      "pygame 2.0.2 (SDL 2.0.16, Python 3.9.7)\n",
      "Hello from the pygame community. https://www.pygame.org/contribute.html\n"
     ]
    }
   ],
   "source": [
    "import pygame"
   ]
  },
  {
   "cell_type": "code",
   "execution_count": 2,
   "id": "9bd80dd3",
   "metadata": {
    "slideshow": {
     "slide_type": "fragment"
    }
   },
   "outputs": [],
   "source": [
    "import numpy as np"
   ]
  },
  {
   "cell_type": "code",
   "execution_count": 3,
   "id": "d468ca4a",
   "metadata": {
    "slideshow": {
     "slide_type": "fragment"
    }
   },
   "outputs": [],
   "source": [
    "import random"
   ]
  },
  {
   "cell_type": "markdown",
   "id": "084f727d",
   "metadata": {
    "slideshow": {
     "slide_type": "slide"
    }
   },
   "source": [
    "# 3. Python Basics\n",
    "\n",
    "<br/>\n",
    "<br/>\n",
    "<br/>\n",
    "<br/>\n",
    "\n",
    "Let's code!"
   ]
  }
 ],
 "metadata": {
  "celltoolbar": "Slideshow",
  "kernelspec": {
   "display_name": "Python 3 (ipykernel)",
   "language": "python",
   "name": "python3"
  },
  "language_info": {
   "codemirror_mode": {
    "name": "ipython",
    "version": 3
   },
   "file_extension": ".py",
   "mimetype": "text/x-python",
   "name": "python",
   "nbconvert_exporter": "python",
   "pygments_lexer": "ipython3",
   "version": "3.9.7"
  }
 },
 "nbformat": 4,
 "nbformat_minor": 5
}
