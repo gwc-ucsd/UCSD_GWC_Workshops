{
 "cells": [
  {
   "cell_type": "markdown",
   "id": "4797393b-5c41-4031-83d1-452e7e67b1a9",
   "metadata": {
    "slideshow": {
     "slide_type": "slide"
    }
   },
   "source": [
    "# Coding a Game in Python!\n",
    "\n",
    "## Girls Who Code @ UCSD 3-part workshop\n",
    "<br/>\n",
    "<br/>\n",
    "\n",
    "<img src=\"images/tetris.png\" alt=\"tetris\" width=\"400\"/>\n"
   ]
  },
  {
   "cell_type": "markdown",
   "id": "98c0720d-4c5a-42ca-a60e-117dde49a95e",
   "metadata": {
    "slideshow": {
     "slide_type": "slide"
    }
   },
   "source": [
    "## Part 1 - Setting Up the Environment\n",
    "Today!\n",
    "<br/>\n",
    "<br/>"
   ]
  },
  {
   "cell_type": "markdown",
   "id": "d458ab73",
   "metadata": {
    "slideshow": {
     "slide_type": "fragment"
    }
   },
   "source": [
    "### Part 2 - Python Basics\n",
    "Monday October 25!"
   ]
  },
  {
   "cell_type": "markdown",
   "id": "c6369d25",
   "metadata": {
    "slideshow": {
     "slide_type": "fragment"
    }
   },
   "source": [
    "### Part 3 - Coding Tetris\n",
    "Monday November 1!"
   ]
  },
  {
   "cell_type": "markdown",
   "id": "8a05cd13-4617-455b-ba8e-95f5c458541c",
   "metadata": {
    "slideshow": {
     "slide_type": "subslide"
    }
   },
   "source": [
    "### Today's Goals: "
   ]
  },
  {
   "cell_type": "markdown",
   "id": "16caed47-ccf8-4c2c-be5c-a8da422bee02",
   "metadata": {
    "slideshow": {
     "slide_type": "fragment"
    }
   },
   "source": [
    " - Learn how to install an IDE such as VSCode"
   ]
  },
  {
   "cell_type": "markdown",
   "id": "c650b4ac",
   "metadata": {
    "slideshow": {
     "slide_type": "fragment"
    }
   },
   "source": [
    " - Learn how to install Python on your computer, as well as other relevant packages (such as Pandas, NumPy, and more)"
   ]
  },
  {
   "cell_type": "markdown",
   "id": "a239edd4",
   "metadata": {
    "slideshow": {
     "slide_type": "fragment"
    }
   },
   "source": [
    " - Get more familiar with using the terminal"
   ]
  },
  {
   "cell_type": "markdown",
   "id": "f262461a-34b5-400a-9273-df50e9fb44bd",
   "metadata": {
    "slideshow": {
     "slide_type": "slide"
    }
   },
   "source": [
    "## 1. Overview"
   ]
  },
  {
   "cell_type": "markdown",
   "id": "d6041d1d",
   "metadata": {
    "slideshow": {
     "slide_type": "fragment"
    }
   },
   "source": [
    "<img src=\"images/overview.png\" alt=\"overview\" width=\"900\"/>"
   ]
  },
  {
   "cell_type": "markdown",
   "id": "f93039ee",
   "metadata": {
    "slideshow": {
     "slide_type": "subslide"
    }
   },
   "source": [
    "<img src=\"images/virtualmachine.png\" alt=\"virtualmachine\" width=\"900\"/>"
   ]
  },
  {
   "cell_type": "markdown",
   "id": "201f41d1",
   "metadata": {
    "slideshow": {
     "slide_type": "slide"
    }
   },
   "source": [
    "## 2. Install Interpreter\n",
    "<br/>\n",
    "<br/>\n",
    "\n",
    "<img src=\"images/vscode.png\" alt=\"vscode\" width=\"700\"/>"
   ]
  },
  {
   "cell_type": "markdown",
   "id": "42ca1765",
   "metadata": {
    "slideshow": {
     "slide_type": "skip"
    }
   },
   "source": []
  },
  {
   "cell_type": "markdown",
   "id": "05bc2b3f",
   "metadata": {
    "slideshow": {
     "slide_type": "subslide"
    }
   },
   "source": [
    "### VS Code"
   ]
  },
  {
   "cell_type": "markdown",
   "id": "17c413da",
   "metadata": {
    "slideshow": {
     "slide_type": "skip"
    }
   },
   "source": []
  },
  {
   "cell_type": "markdown",
   "id": "f0ebc78e",
   "metadata": {
    "slideshow": {
     "slide_type": "fragment"
    }
   },
   "source": [
    "- An integrated development environment (IDE)-- a spot for developers to write and test code at the same time"
   ]
  },
  {
   "cell_type": "markdown",
   "id": "66f659e2",
   "metadata": {
    "slideshow": {
     "slide_type": "fragment"
    }
   },
   "source": [
    "- Available for free for Windows, Mac, and Linux"
   ]
  },
  {
   "cell_type": "markdown",
   "id": "866c60f6",
   "metadata": {
    "slideshow": {
     "slide_type": "fragment"
    }
   },
   "source": [
    "- Commonly used in the workforce, and in coding classes @ UCSD"
   ]
  },
  {
   "cell_type": "markdown",
   "id": "e98f702a",
   "metadata": {
    "slideshow": {
     "slide_type": "fragment"
    }
   },
   "source": [
    "- Supports C++, C#, CSS, HTML, Java, JSON, Python, and many more!"
   ]
  },
  {
   "cell_type": "markdown",
   "id": "6b9c36d8",
   "metadata": {
    "slideshow": {
     "slide_type": "subslide"
    }
   },
   "source": [
    "### Installation Link\n",
    "<br/>\n",
    "<br/>\n",
    "<br/>\n",
    "https://code.visualstudio.com/download\n",
    "<br/>\n",
    "- Use the link above and download the appropriate file for your computer"
   ]
  },
  {
   "cell_type": "markdown",
   "id": "df3d4ad9",
   "metadata": {
    "slideshow": {
     "slide_type": "slide"
    }
   },
   "source": [
    "## 3. Install Python"
   ]
  },
  {
   "cell_type": "markdown",
   "id": "c29d8938",
   "metadata": {
    "slideshow": {
     "slide_type": "fragment"
    }
   },
   "source": [
    "#### Now that our IDE is fully installed, we can use VSCode's built-in terminal to install the latest version of python!"
   ]
  },
  {
   "cell_type": "markdown",
   "id": "1369c865",
   "metadata": {
    "slideshow": {
     "slide_type": "slide"
    }
   },
   "source": [
    "### Install VSCode's Python Extension\n",
    "\n",
    "<img src=\"images/ext2.png\" alt=\"ext2\" width=\"300\"/>\n",
    "\n",
    "<img src=\"images/ext1.png\" alt=\"ext1\" width=\"500\"/>"
   ]
  },
  {
   "cell_type": "markdown",
   "id": "3fcb8f16",
   "metadata": {
    "slideshow": {
     "slide_type": "slide"
    }
   },
   "source": [
    "#### Now that the Python extension is installed...\n",
    "VSCode will prompt you asking for the Python interpreter"
   ]
  },
  {
   "cell_type": "markdown",
   "id": "a65c34cc",
   "metadata": {
    "slideshow": {
     "slide_type": "fragment"
    }
   },
   "source": [
    "<br/>\n",
    "<br/>\n",
    "We now need to install a Python interpreter."
   ]
  },
  {
   "cell_type": "markdown",
   "id": "2bdd1816",
   "metadata": {
    "slideshow": {
     "slide_type": "fragment"
    }
   },
   "source": [
    "- Luckily, pip is a python interpreter that comes preinstalled with Python for both MacOS and Windows"
   ]
  },
  {
   "cell_type": "markdown",
   "id": "ced356d2",
   "metadata": {
    "slideshow": {
     "slide_type": "subslide"
    }
   },
   "source": [
    "### Installing Python\n",
    "<br/>\n",
    "\n",
    "https://www.python.org/downloads/"
   ]
  },
  {
   "cell_type": "markdown",
   "id": "c214d4d1",
   "metadata": {
    "slideshow": {
     "slide_type": "fragment"
    }
   },
   "source": [
    "- Windows, MacOS, and Linux users can all download Python directly from python.org!"
   ]
  },
  {
   "cell_type": "markdown",
   "id": "ff6a0e5c",
   "metadata": {
    "slideshow": {
     "slide_type": "fragment"
    }
   },
   "source": [
    "- Install the file as specified for your machine"
   ]
  },
  {
   "cell_type": "markdown",
   "id": "c059b3ea",
   "metadata": {
    "slideshow": {
     "slide_type": "slide"
    }
   },
   "source": [
    "#### Now we have to link our new Python interpreter to the Python extension on VSCode"
   ]
  },
  {
   "cell_type": "markdown",
   "id": "12e48063",
   "metadata": {
    "slideshow": {
     "slide_type": "fragment"
    }
   },
   "source": [
    "- Navigate back to the VSCode app, and select View --> Command Palette from the toolbar at the top\n",
    "<br/>\n",
    "<img src=\"images/cp1.png\" alt=\"commandpalette\" width=\"300\"/>\n",
    "<img src=\"images/cp2.png\" alt=\"commandpalette\" width=\"600\"/>"
   ]
  },
  {
   "cell_type": "markdown",
   "id": "e6caccd5",
   "metadata": {},
   "source": [
    "- From here, simply select your interpreter, which should exist somewhere in your local user directory\n",
    "- Let us know if you have trouble finding your python interpreter!"
   ]
  },
  {
   "cell_type": "markdown",
   "id": "35f360d4",
   "metadata": {
    "slideshow": {
     "slide_type": "skip"
    }
   },
   "source": []
  },
  {
   "cell_type": "markdown",
   "id": "ac513fba",
   "metadata": {
    "slideshow": {
     "slide_type": "slide"
    }
   },
   "source": [
    "## 4. Install Relevant Packages/Libraries\n",
    "<br/>\n",
    "<br/>\n",
    "<img src=\"images/packages.jpg\" alt=\"packages\" width=\"650\"/>"
   ]
  },
  {
   "cell_type": "markdown",
   "id": "9ec7b867",
   "metadata": {
    "slideshow": {
     "slide_type": "subslide"
    }
   },
   "source": [
    "### What are Python libraries/packages?"
   ]
  },
  {
   "cell_type": "markdown",
   "id": "1cd3baf1",
   "metadata": {
    "slideshow": {
     "slide_type": "fragment"
    }
   },
   "source": [
    "- Python Libraries are a set of useful functions that eliminate the need for writing codes from scratch, streamlining the most commonly used processes"
   ]
  },
  {
   "cell_type": "markdown",
   "id": "ab05bcab",
   "metadata": {
    "slideshow": {
     "slide_type": "fragment"
    }
   },
   "source": [
    "- There are numerous open-source libraries available in Python, each with specific purposes\n",
    "- Often used together and are compatible"
   ]
  },
  {
   "cell_type": "markdown",
   "id": "8bccbca3",
   "metadata": {
    "slideshow": {
     "slide_type": "fragment"
    }
   },
   "source": [
    "- Accessed using an 'import' statement"
   ]
  },
  {
   "cell_type": "markdown",
   "id": "5b90887b",
   "metadata": {
    "slideshow": {
     "slide_type": "slide"
    }
   },
   "source": [
    "### Installing a few Packages"
   ]
  },
  {
   "cell_type": "markdown",
   "id": "1ea17b24",
   "metadata": {
    "slideshow": {
     "slide_type": "fragment"
    }
   },
   "source": [
    "- Navigate to the VSCode app toolbar, and select 'Terminal'\n",
    "- Open a new Terminal \n",
    "<br/>\n",
    "<img src=\"images/term3.png\" alt=\"terminal3\" width=\"450\"/>\n",
    "<img src=\"images/term1.png\" alt=\"terminal\" width=\"650\"/>"
   ]
  },
  {
   "cell_type": "markdown",
   "id": "03820064-8096-4b61-9c68-cdaa603a5e32",
   "metadata": {
    "slideshow": {
     "slide_type": "subslide"
    }
   },
   "source": [
    "### Type the following commands into your terminal:\n",
    "<br/>\n",
    "<br/>\n",
    "<br/>"
   ]
  },
  {
   "cell_type": "code",
   "execution_count": null,
   "id": "1ff3d612",
   "metadata": {
    "slideshow": {
     "slide_type": "fragment"
    }
   },
   "outputs": [],
   "source": [
    "pip install pandas"
   ]
  },
  {
   "cell_type": "markdown",
   "id": "5afbf013",
   "metadata": {},
   "source": [
    "<br/>\n",
    "<br/>"
   ]
  },
  {
   "cell_type": "code",
   "execution_count": null,
   "id": "2cd822ec",
   "metadata": {
    "slideshow": {
     "slide_type": "fragment"
    }
   },
   "outputs": [],
   "source": [
    " pip install numpy"
   ]
  },
  {
   "cell_type": "markdown",
   "id": "6e45cae1-4aba-4c26-aed9-1f89aff87197",
   "metadata": {
    "slideshow": {
     "slide_type": "subslide"
    }
   },
   "source": [
    "### You're now ready to start coding in Python!\n",
    "\n",
    "#### Open up a .py file to get started...."
   ]
  },
  {
   "cell_type": "markdown",
   "id": "ce5a5883-70a8-4305-92d6-fb0bf8c307b8",
   "metadata": {},
   "source": []
  },
  {
   "cell_type": "markdown",
   "id": "443d38fa-ef03-4787-91c9-30ab89ad6d94",
   "metadata": {},
   "source": []
  },
  {
   "cell_type": "markdown",
   "id": "249f8f0a-592e-4584-8c0a-5ef622a22beb",
   "metadata": {},
   "source": []
  },
  {
   "cell_type": "markdown",
   "id": "6ea2f3ed-4c51-4341-b446-e079a1e7c2b6",
   "metadata": {},
   "source": []
  },
  {
   "cell_type": "markdown",
   "id": "267abc97",
   "metadata": {},
   "source": []
  }
 ],
 "metadata": {
  "celltoolbar": "Slideshow",
  "kernelspec": {
   "display_name": "Python 3 (ipykernel)",
   "language": "python",
   "name": "python3"
  },
  "language_info": {
   "codemirror_mode": {
    "name": "ipython",
    "version": 3
   },
   "file_extension": ".py",
   "mimetype": "text/x-python",
   "name": "python",
   "nbconvert_exporter": "python",
   "pygments_lexer": "ipython3",
   "version": "3.9.7"
  }
 },
 "nbformat": 4,
 "nbformat_minor": 5
}
